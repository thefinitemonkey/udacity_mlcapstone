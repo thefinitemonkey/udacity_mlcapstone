{
 "cells": [
  {
   "cell_type": "markdown",
   "metadata": {},
   "source": [
    "# Project: Machine Learning Capstone - Predict Movie Revenue\n",
    "\n",
    "This project works with the datasets from the Kaggle competition at https://www.kaggle.com/c/tmdb-box-office-prediction/data to create a model for predicting worldwide box office revenue for movies.\n",
    "\n",
    "There are 3000 movies in the sample data set being used for training and testing. The model created from this will then be used on a separate dataset to score the accuracy of predictions. The sample set contains 23 columns, of which 7 columns each contain JSON array data of objects. These objects, along with other fields, will require pre-processing into individual table columns for use in modeling. The fields the will be focuse on are:\n",
    "\n",
    "* **belongs_to_collection**: Indicates whether this movie is part of a series, and if so which series. Will be one-hot encoded as col_0 for none or col_X where X is the associated collection.\n",
    "* **budget**: Budget for film as an integer. Some entries have a budget of 0. It will be interesting to try the model both with and without this column as a consideration.\n",
    "* **genres**: Indicates the genres to which the film belongs. Will be one-hot encoded as gen_X where X is the associated genre.\n",
    "* **homepage**: Lists the URL for the homepage of the movie, if any. Will be encoded to 0 or 1 to indicate only whether the movie had a homepage.\n",
    "* **original_language**: Gives the ISO language value for the film. Will be one-hot encoded to lan_ISO where ISO is the ISO language value.\n",
    "* **popularity**: Long number value rating the film's popularity. This would not be a known value for future film productions, so it will be interesting to try modeling both with and without this value considered.\n",
    "* **production_companies**: Indicates production companies involved in the movie. Will be one-hot encoded as pcom_X where X is the id of the production company.\n",
    "* **production_countries**: Indicates countries where the movie was filmed or produced. Will be one-hot encoded as pcou_ISO where ISO is the ISO_3166_1 country value.\n",
    "* **release_date**: The release date for the film in mm/dd/yyyy format. Will be encoded to r_year and r_week columns, where r_week is the number of the week in the year in which the file was relesed (0-51)\n",
    "* **runtime**: Integer value for the runtime of the film in minutes.\n",
    "* **spoken_languages**: Indicates the languages spoken in the movie. Will be one-hot encoded to spo_ISO where ISO is the ISO_639-1 language value.\n",
    "* **Keywords**: Indicates the keyword values associated with the movie. Keyword objects have the format {'id': int, 'name': ''}, so these will be encoded to key_X where X is the keyword id.\n",
    "* **cast**: Indicates cast members associated with the movie. Will be one-hot encoded to cast_X where X is the id of the cast member.\n",
    "* **crew**: Indicates crew members associated with the movie. Will be one-hot encoded to crew_X where X is the id of the crew member.\n",
    "* **revenue**: Integer value for the worldwide revenue of the movie."
   ]
  },
  {
   "cell_type": "code",
   "execution_count": 1,
   "metadata": {},
   "outputs": [
    {
     "name": "stdout",
     "output_type": "stream",
     "text": [
      "Column names ['id', 'belongs_to_collection', 'budget', 'genres', 'homepage', 'original_language', 'original_title', 'overview', 'popularity', 'production_companies', 'production_countries', 'release_date', 'runtime', 'spoken_languages', 'status', 'tagline', 'title', 'Keywords', 'cast', 'crew', 'revenue']\n",
      "jcolumnize shape: (3000, 443)\n",
      "jcolumnize shape: (3000, 9519)\n",
      "jcolumnize shape: (3000, 9539)\n",
      "jcolumnize shape: (3000, 13251)\n",
      "jcolumnize shape: (3000, 13325)\n",
      "jcolumnize shape: (3000, 13404)\n",
      "jcolumnize shape: (3000, 20804)\n",
      "Movies dataset has 3000 data points with 20804 variables each.\n"
     ]
    }
   ],
   "source": [
    "# Import libraries necessary for this project\n",
    "import sys\n",
    "sys.path.insert(0, 'utilities')\n",
    "\n",
    "import numpy as np\n",
    "import pandas as pd\n",
    "import json\n",
    "import ast\n",
    "from pandas.io.json import json_normalize\n",
    "from sklearn.model_selection import ShuffleSplit\n",
    "\n",
    "from json_columnizer import jcolumnize\n",
    "from json_columnizer import collection_columnize\n",
    "\n",
    "# Import supplementary visualizations code visuals.py\n",
    "#import visuals as vs\n",
    "\n",
    "# Pretty display for notebooks\n",
    "%matplotlib inline\n",
    "\n",
    "\n",
    "# Load the movies dataset\n",
    "train = pd.read_csv('data/train.csv')\n",
    "\n",
    "# Drop useless columns\n",
    "train = train.drop(['imdb_id', 'poster_path'], axis = 1)\n",
    "print(\"Column names {}\".format(list(train)))\n",
    "\n",
    "# Turn collections into columns\n",
    "train = jcolumnize(train, 'belongs_to_collection', 'id', 'collection_')\n",
    "# Turn cast into columns\n",
    "train = jcolumnize(train, 'cast', 'id', 'cast_', True)\n",
    "# Turn genres into columns\n",
    "train = jcolumnize(train, 'genres', 'id', 'genres_')\n",
    "# Turn production companies into columns\n",
    "train = jcolumnize(train, 'production_companies', 'id', 'pcomp_')\n",
    "# Turn production countries into columns\n",
    "train = jcolumnize(train, 'production_countries', 'iso_3166_1', 'pcoun_')\n",
    "# Turn spoken languages into columns\n",
    "train = jcolumnize(train, 'spoken_languages', 'iso_639_1', 'spoken_')\n",
    "# Turn keywords int columns\n",
    "train = jcolumnize(train, 'Keywords', 'id', 'key_')\n",
    "\n",
    "#revenue = data['revenue']\n",
    "#features = data.drop('revenue', axis = 1)\n",
    "    \n",
    "# Success\n",
    "print(\"Movies dataset has {} data points with {} variables each.\".format(*train.shape))\n",
    "#print(\"Column names {}\".format(list(data)))\n"
   ]
  },
  {
   "cell_type": "code",
   "execution_count": null,
   "metadata": {},
   "outputs": [],
   "source": []
  },
  {
   "cell_type": "code",
   "execution_count": null,
   "metadata": {},
   "outputs": [],
   "source": []
  }
 ],
 "metadata": {
  "kernelspec": {
   "display_name": "Python 3",
   "language": "python",
   "name": "python3"
  },
  "language_info": {
   "codemirror_mode": {
    "name": "ipython",
    "version": 3
   },
   "file_extension": ".py",
   "mimetype": "text/x-python",
   "name": "python",
   "nbconvert_exporter": "python",
   "pygments_lexer": "ipython3",
   "version": "3.7.0"
  }
 },
 "nbformat": 4,
 "nbformat_minor": 2
}
